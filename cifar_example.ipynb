{
 "cells": [
  {
   "cell_type": "markdown",
   "metadata": {},
   "source": [
    "some notes:\n",
    "============\n",
    "\n",
    "to install this thing:\n",
    "---------------------\n",
    "* create AMI on https://nervana.signin.aws.amazon.com/console\n",
    "* sudo apt-get update\n",
    "* sudo apt-get install git make python-pip python-dev libhdf5-dev\n",
    "* sudo pip install virtualenv\n",
    "* git clone https://github.com/NervanaSystems/neon.git\n",
    "* cd neon; make; . .venv/bin/activate\n",
    "* pip install ipython jupyter matplotlib\n",
    "* ipython notebook --ip 0.0.0.0 --no-browser\n",
    "\n",
    "and you are in business!\n",
    "\n",
    "to connect to the notebook from outside:\n",
    "* add custom TCP rule to open port 8888"
   ]
  },
  {
   "cell_type": "raw",
   "metadata": {},
   "source": [
    "[TODO]\n",
    "----\n",
    "[DONE] classify own image\n",
    "[TODO] mutli-cpu on AWS?\n",
    "[DONE] for demo run with GPU on max2?\n",
    "[TODO] Callback bug fix into master\n",
    "[TODO] Remove or fix weight visualization\n"
   ]
  },
  {
   "cell_type": "markdown",
   "metadata": {},
   "source": [
    "Getting started with neon\n",
    "=========================\n",
    "This notebook is a tutorial for neon beginners. It helps you specify a small convNet model, and train it on packaged <a href=https://www.kaggle.com/c/cifar-10>Cifar10</a> data. It then shows you how to upload your own image, and classify it into the 10 categories:\n",
    "\n",
    "airplane \n",
    "automobile \n",
    "bird \n",
    "cat \n",
    "deer \n",
    "dog \n",
    "frog \n",
    "horse \n",
    "ship \n",
    "truck\n",
    "\n",
    "<img src=\"https://kaggle2.blob.core.windows.net/competitions/kaggle/3649/media/cifar-10.png\">\n",
    "\n",
    "At the end of this tutorial, you should be able to upload your own images and classify them into one of the 10 categories.\n"
   ]
  },
  {
   "cell_type": "raw",
   "metadata": {},
   "source": [
    "We have cells that prompt the user what to do (generate a backend...) and then a hidden/optional cell that shows the correct way if you get it wrong. \n",
    "\n",
    "The notebook server is going to run remotely on AWS, and you should have a piece of paper with a username and password on your desk."
   ]
  },
  {
   "cell_type": "markdown",
   "metadata": {},
   "source": [
    "Setting up a model\n",
    "==================\n",
    "The pieces we need to set up a model are described in the <a href=http://neon.nervanasys.com/docs/latest/user_guide.html> user guide </a>:\n",
    "* CIFAR10 dataset \n",
    "* layer configuration and a <a href=http://neon.nervanasys.com/docs/latest/user_guide.html#model> model </a>\n",
    "* a compute <a href=http://neon.nervanasys.com/docs/latest/user_guide.html#backend-setup> backend </a>\n",
    "* an optimizer"
   ]
  },
  {
   "cell_type": "code",
   "execution_count": 1,
   "metadata": {
    "collapsed": false
   },
   "outputs": [
    {
     "name": "stdout",
     "output_type": "stream",
     "text": [
      "<neon.backends.nervanagpu.NervanaGPU object at 0x7fa1eb57cd10>\n"
     ]
    }
   ],
   "source": [
    "# We start by generating the backend:\n",
    "from neon.backends import gen_backend\n",
    "be = gen_backend(backend='gpu',             \n",
    "                 batch_size=128)\n",
    "\n",
    "# there is not much we can do with the backend right now, but if we\n",
    "# print it, it should tell us that we have a CPU backend object\n",
    "print be"
   ]
  },
  {
   "cell_type": "markdown",
   "metadata": {},
   "source": [
    "Loading a dataset\n",
    "-----------------\n",
    "Loading and generating datasets is explained in our documentation at http://neon.nervanasys.com/docs/latest/datasets.html"
   ]
  },
  {
   "cell_type": "code",
   "execution_count": 2,
   "metadata": {
    "collapsed": false
   },
   "outputs": [],
   "source": [
    "# The dataset is supplied in canned form, and will be downloaded \n",
    "# from the web the first time you run this. It just returns numpy\n",
    "# arrays with the pixel values, and class labels. \n",
    "from neon.data import load_cifar10\n",
    "(X_train, y_train), (X_test, y_test), nclass = load_cifar10()\n",
    "\n",
    "# to put the dataset into a format neon can understand, we create\n",
    "# a DataIterator instance. This moves the data onto the compute\n",
    "# device (e.g. GPU) and provides an iterator that returns training\n",
    "# batches. \n",
    "from neon.data import DataIterator\n",
    "train_set = DataIterator(X_train, y_train, nclass=nclass, lshape=(3, 32, 32))\n",
    "test_set = DataIterator(X_test, y_test, nclass=nclass, lshape=(3, 32, 32))"
   ]
  },
  {
   "cell_type": "markdown",
   "metadata": {},
   "source": [
    "Network Layers\n",
    "--------------\n",
    "Layer types are explained in http://neon.nervanasys.com/docs/latest/layers.html\n",
    "It helps to make use of iPython tab completion to see available layers (e.g. from neon.layers import TAB) and to use the docstrings.\n",
    "\n",
    "Layer types include things such as\n",
    "* Convolution\n",
    "* Bias\n",
    "* Activation\n",
    "* Pooling\n",
    "* Batch Normalization\n",
    "and for commonly used combinations neon provides shortcuts:\n",
    "* Conv = Convolution + Bias + Activation\n",
    "* Affine = Linear + Bias + Activation\n",
    "\n",
    "for this network, we are going to use one Conv, one Pooling and one Affine layer. "
   ]
  },
  {
   "cell_type": "markdown",
   "metadata": {},
   "source": [
    "/Extra credit: The ELU nonlinearity. This is supposed to speed up learning and show how to extend neon with custom code./"
   ]
  },
  {
   "cell_type": "code",
   "execution_count": 26,
   "metadata": {
    "collapsed": false
   },
   "outputs": [],
   "source": [
    "# from neon.transforms.activation import Rectlin\n",
    "# class ELU(Rectlin):\n",
    "#     def __init__(self):\n",
    "#         name = \"ELU\"\n",
    "#         super(Rectlin, self).__init__(name)\n",
    "#         self.alpha = 1\n",
    "\n",
    "#     def __call__(self, x):\n",
    "#         return x if self.be.greater(x, 0) else self.alpha * (self.be.exp(x)-1)\n",
    "\n",
    "#     def bprop(self, x):\n",
    "#         return 1 if self.be.greater(x, 0) else self.alpha * (self.be.exp(x)-1) + self.alpha    "
   ]
  },
  {
   "cell_type": "code",
   "execution_count": 86,
   "metadata": {
    "collapsed": false
   },
   "outputs": [],
   "source": [
    "# Now we create a model by assembling some layers\n",
    "from neon.layers import Conv, Affine, Pooling\n",
    "from neon.initializers import Uniform\n",
    "from neon.transforms.activation import Rectlin, Softmax\n",
    "init_uni = Uniform(low=-0.1, high=0.1)\n",
    "layers = [Conv(fshape=(5,5,16), init=init_uni, activation=Rectlin()),\n",
    "          Pooling(fshape=2, strides=2),\n",
    "          Conv(fshape=(5,5,32), init=init_uni, activation=Rectlin()),\n",
    "          Pooling(fshape=2, strides=2),\n",
    "          Affine(nout=500, init=init_uni, activation=Rectlin()),\n",
    "          Affine(nout=10, init=init_uni, activation=Softmax())]\n",
    "\n",
    "# set up model\n",
    "from neon.models import Model\n",
    "model = Model(layers)\n",
    "\n"
   ]
  },
  {
   "cell_type": "markdown",
   "metadata": {},
   "source": [
    "Cost function\n",
    "--------------\n",
    "Next we need a cost function to evaluate the output of the network. The cost function compares network outputs with ground truth labels, and produces and error that we can backpropagate through the layers of the network.\n",
    "\n",
    "Common cost functions are\n",
    "* Cross Entropy\n",
    "* Sum of squares difference\n",
    "\n",
    "For our binary classification task, we use crossentropy"
   ]
  },
  {
   "cell_type": "code",
   "execution_count": 87,
   "metadata": {
    "collapsed": false
   },
   "outputs": [],
   "source": [
    "# setting up the cost function\n",
    "from neon.layers import GeneralizedCost\n",
    "from neon.transforms import CrossEntropyMulti\n",
    "cost = GeneralizedCost(costfunc=CrossEntropyMulti())"
   ]
  },
  {
   "cell_type": "markdown",
   "metadata": {},
   "source": [
    "Optimizer\n",
    "---------\n",
    "We now have a cost function that we want to minimize, typically by following \n",
    "the negative gradient of the cost. This is called gradient descent. We do this\n",
    "iteratively over small batches of the data set, making it stochastic gradient \n",
    "decesent (SGD). There are other optimzers such as\n",
    "* RMSProp\n",
    "* AdaDelta\n",
    "\n",
    "that are supported in neon, but often simple gradient descent works well."
   ]
  },
  {
   "cell_type": "code",
   "execution_count": 88,
   "metadata": {
    "collapsed": false
   },
   "outputs": [],
   "source": [
    "# set up optimizer\n",
    "from neon.optimizers import GradientDescentMomentum, RMSProp\n",
    "optimizer = GradientDescentMomentum(learning_rate=0.005, momentum_coef=0.9)\n",
    "#optimizer = RMSProp()"
   ]
  },
  {
   "cell_type": "markdown",
   "metadata": {},
   "source": [
    "Callbacks\n",
    "---------\n",
    "To provide feedback while the model is training, neon lets the user specify a set of callbacks that get evaluated at the end of every iteration (minibatch) or pass through the dataset (epoch). Callbacks include evaluating the model on a validation set or computing missclassification percentage. There are also callbacks for saving to disk and for generating visualizations. Here we will set up a progress bar to monitor training."
   ]
  },
  {
   "cell_type": "code",
   "execution_count": 89,
   "metadata": {
    "collapsed": false
   },
   "outputs": [],
   "source": [
    "# set up callbacks. By default sets up a progress bar\n",
    "from neon.callbacks.callbacks import Callbacks\n",
    "callbacks = Callbacks(model, train_set)"
   ]
  },
  {
   "cell_type": "markdown",
   "metadata": {},
   "source": [
    "Training the model\n",
    "------------------\n",
    "Now all the pieces are in place to run the network. We use the fit function and pass it a dataset, cost, optmizer, and the callbacks we set up."
   ]
  },
  {
   "cell_type": "code",
   "execution_count": 90,
   "metadata": {
    "collapsed": false
   },
   "outputs": [
    {
     "name": "stdout",
     "output_type": "stream",
     "text": [
      "Epoch 0   [Train |████████████████████|  391/391  batches, 1.59 cost, 0.96s]\n",
      "Epoch 1   [Train |████████████████████|  391/391  batches, 1.40 cost, 0.99s]\n",
      "Epoch 2   [Train |████████████████████|  390/390  batches, 1.31 cost, 0.99s]\n",
      "Epoch 3   [Train |████████████████████|  391/391  batches, 1.21 cost, 0.99s]\n",
      "Epoch 4   [Train |████████████████████|  390/390  batches, 1.15 cost, 0.98s]\n",
      "Epoch 5   [Train |████████████████████|  391/391  batches, 1.07 cost, 0.99s]\n",
      "Epoch 6   [Train |████████████████████|  391/391  batches, 1.01 cost, 0.99s]\n",
      "Epoch 7   [Train |████████████████████|  390/390  batches, 0.98 cost, 0.99s]\n",
      "Epoch 8   [Train |████████████████████|  391/391  batches, 0.93 cost, 0.99s]\n",
      "Epoch 9   [Train |████████████████████|  391/391  batches, 0.89 cost, 0.99s]\n",
      "Epoch 10  [Train |████████████████████|  390/390  batches, 0.84 cost, 0.98s]\n",
      "Epoch 11  [Train |████████████████████|  391/391  batches, 0.82 cost, 0.99s]\n",
      "Epoch 12  [Train |████████████████████|  390/390  batches, 0.78 cost, 0.99s]\n",
      "Epoch 13  [Train |████████████████████|  391/391  batches, 0.73 cost, 0.99s]\n",
      "Epoch 14  [Train |████████████████████|  391/391  batches, 0.75 cost, 0.99s]\n",
      "Epoch 15  [Train |████████████████████|  390/390  batches, 0.68 cost, 0.99s]\n",
      "Epoch 16  [Train |████████████████████|  391/391  batches, 0.67 cost, 1.00s]\n",
      "Epoch 17  [Train |████████████████████|  391/391  batches, 0.66 cost, 1.00s]\n",
      "Epoch 18  [Train |████████████████████|  390/390  batches, 0.65 cost, 0.99s]\n",
      "Epoch 19  [Train |████████████████████|  391/391  batches, 0.60 cost, 0.99s]\n",
      "Epoch 20  [Train |████████████████████|  390/390  batches, 0.55 cost, 0.99s]\n",
      "Epoch 21  [Train |████████████████████|  391/391  batches, 0.53 cost, 0.99s]\n",
      "Epoch 22  [Train |████████████████████|  391/391  batches, 0.51 cost, 0.99s]\n",
      "Epoch 23  [Train |████████████████████|  390/390  batches, 0.47 cost, 0.99s]\n",
      "Epoch 24  [Train |████████████████████|  391/391  batches, 0.46 cost, 0.99s]\n",
      "Epoch 25  [Train |████████████████████|  391/391  batches, 0.43 cost, 0.99s]\n",
      "Epoch 26  [Train |████████████████████|  390/390  batches, 0.43 cost, 0.99s]\n",
      "Epoch 27  [Train |████████████████████|  391/391  batches, 0.37 cost, 0.99s]\n",
      "Epoch 28  [Train |████████████████████|  390/390  batches, 0.36 cost, 0.99s]\n",
      "Epoch 29  [Train |████████████████████|  391/391  batches, 0.32 cost, 0.99s]\n",
      "Epoch 30  [Train |████████████████████|  391/391  batches, 0.31 cost, 0.99s]\n",
      "Epoch 31  [Train |████████████████████|  390/390  batches, 0.34 cost, 0.99s]\n",
      "Epoch 32  [Train |████████████████████|  391/391  batches, 0.32 cost, 0.99s]\n",
      "Epoch 33  [Train |████████████████████|  391/391  batches, 0.26 cost, 0.99s]\n",
      "Epoch 34  [Train |████████████████████|  390/390  batches, 0.25 cost, 0.99s]\n",
      "Epoch 35  [Train |████████████████████|  391/391  batches, 0.21 cost, 0.99s]\n",
      "Epoch 36  [Train |████████████████████|  390/390  batches, 0.18 cost, 0.99s]\n",
      "Epoch 37  [Train |████████████████████|  391/391  batches, 0.16 cost, 0.99s]\n",
      "Epoch 38  [Train |████████████████████|  391/391  batches, 0.18 cost, 0.99s]\n",
      "Epoch 39  [Train |████████████████████|  390/390  batches, 0.20 cost, 0.99s]\n"
     ]
    }
   ],
   "source": [
    "# And  run the model\n",
    "model.fit(dataset=train_set,\n",
    "          cost=cost,\n",
    "          optimizer=optimizer,\n",
    "          num_epochs=40,\n",
    "          callbacks=callbacks)"
   ]
  },
  {
   "cell_type": "markdown",
   "metadata": {},
   "source": [
    "Congrats, if you made it this far you have trained a convolutional network in neon.\n",
    "\n",
    "Evaluating the model\n",
    "--------------------\n",
    "We can now compute the misclassification on the test set to see how well we did."
   ]
  },
  {
   "cell_type": "code",
   "execution_count": 91,
   "metadata": {
    "collapsed": false
   },
   "outputs": [
    {
     "name": "stdout",
     "output_type": "stream",
     "text": [
      "Misclassification error = 40.4%\n"
     ]
    }
   ],
   "source": [
    "# Check the performance on the supplied test set\n",
    "from neon.transforms import Misclassification\n",
    "print 'Misclassification error = %.1f%%' % (model.eval(test_set, metric=Misclassification())*100)"
   ]
  },
  {
   "cell_type": "markdown",
   "metadata": {},
   "source": [
    "By tweaking some of the hyperparameters (number of layers, adding dropout...) we can improve the performance.\n",
    "\n",
    "This was quite a lot of code! Generally, to set up a new model from scratch it is best to follow one of the examples from the neon/examples directory. It's easy to mix and match parts!"
   ]
  },
  {
   "cell_type": "markdown",
   "metadata": {},
   "source": [
    "\n",
    "\n",
    "\n",
    "\n",
    "Visualizations\n",
    "--------------\n",
    "But first, lets look at whats going on inside the model. For this we will use matplotlib to make some visualizations"
   ]
  },
  {
   "cell_type": "code",
   "execution_count": 92,
   "metadata": {
    "collapsed": false
   },
   "outputs": [
    {
     "name": "stdout",
     "output_type": "stream",
     "text": [
      "shape (75, 16)\n",
      "[[ 0.28793609 -0.06150856  0.11460879 ..., -0.08780234  0.35006201\n",
      "  -0.24346967]\n",
      " [ 0.31608564  0.26100114 -0.15777992 ..., -0.12366543  0.04897519\n",
      "  -0.19653422]\n",
      " [-0.10796933  0.38127381 -0.32522649 ..., -0.11146627 -0.27418122\n",
      "  -0.20478141]\n",
      " ..., \n",
      " [ 0.2227913   0.35168371  0.59361702 ...,  0.14048272  0.46139881\n",
      "   0.06821094]\n",
      " [-0.06844849  0.17166287  0.55679786 ..., -0.0227278   0.08557089\n",
      "   0.1152233 ]\n",
      " [-0.14400844 -0.03177495  0.40571338 ..., -0.04805142 -0.23483859\n",
      "   0.06853524]]\n",
      "min -1.46263\n",
      "[[ 1.75056207  1.40111744  1.57723475 ...,  1.37482369  1.81268799\n",
      "   1.21915627]\n",
      " [ 1.77871156  1.72362709  1.30484605 ...,  1.33896053  1.51160121\n",
      "   1.26609182]\n",
      " [ 1.3546567   1.84389973  1.13739944 ...,  1.35115969  1.18844473\n",
      "   1.25784457]\n",
      " ..., \n",
      " [ 1.68541729  1.81430972  2.05624294 ...,  1.60310864  1.92402482\n",
      "   1.53083694]\n",
      " [ 1.39417744  1.63428879  2.01942396 ...,  1.43989813  1.54819691\n",
      "   1.57784927]\n",
      " [ 1.31861758  1.43085098  1.8683393  ...,  1.41457462  1.22778738\n",
      "   1.53116119]]\n",
      "max 2.77279\n",
      "[[ 0.63133627  0.50530982  0.56882614 ...,  0.49582705  0.65374184\n",
      "   0.43968594]\n",
      " [ 0.64148831  0.6216222   0.47058979 ...,  0.48289308  0.54515558\n",
      "   0.45661315]\n",
      " [ 0.48855388  0.66499829  0.41020054 ...,  0.48729268  0.42860991\n",
      "   0.45363879]\n",
      " ..., \n",
      " [ 0.60784191  0.65432668  0.74157935 ...,  0.57815748  0.69389522\n",
      "   0.55209291]\n",
      " [ 0.50280696  0.58940256  0.72830069 ...,  0.51929599  0.55835372\n",
      "   0.56904775]\n",
      " [ 0.47555646  0.51603317  0.67381233 ...,  0.51016313  0.44279873\n",
      "   0.55220979]]\n",
      "[[ 160.99075317  128.85400391  145.05065918 ...,  126.43589783  166.7041626\n",
      "   112.11991119]\n",
      " [ 163.57951355  158.51365662  120.00039673 ...,  123.13773346\n",
      "   139.01467896  116.43635559]\n",
      " [ 124.58123779  169.5745697   104.60113525 ...,  124.25963593  109.2955246\n",
      "   115.67789459]\n",
      " ..., \n",
      " [ 154.99967957  166.853302    189.10273743 ...,  147.43016052\n",
      "   176.94328308  140.78369141]\n",
      " [ 128.21577454  150.2976532   185.7166748  ...,  132.42047119\n",
      "   142.38020325  145.10717773]\n",
      " [ 121.26689911  131.5884552   171.82214355 ...,  130.09159851  112.9136734\n",
      "   140.81349182]]\n"
     ]
    },
    {
     "data": {
      "image/png": "[encoded data removed]",
      "text/plain": [
       "<matplotlib.figure.Figure at 0x7fa1a59deed0>"
      ]
     },
     "metadata": {},
     "output_type": "display_data"
    }
   ],
   "source": [
    "%matplotlib inline\n",
    "import matplotlib.pyplot as plt\n",
    "weights = model.layers.layers[0].W.get()\n",
    "print \"shape\", weights.shape\n",
    "print weights\n",
    "print \"min\", weights.min()\n",
    "weights = weights - weights.min()\n",
    "print weights\n",
    "print \"max\", weights.max()\n",
    "weights = weights / weights.max()\n",
    "print weights\n",
    "weights = 255. * weights\n",
    "print weights\n",
    "for feature in range(16):\n",
    "    f_map = weights[:,feature].reshape(3,5,5).transpose((1,2,0))\n",
    "\n",
    "    f_map = weights[:,feature].reshape(5,5,3)\n",
    "\n",
    "    plt.subplot(4,4,feature+1)\n",
    "    plt.imshow(f_map, interpolation='nearest')\n",
    "    plt.axis('off')"
   ]
  },
  {
   "cell_type": "markdown",
   "metadata": {},
   "source": [
    "Inference\n",
    "=========\n",
    "Now we want to grab a new image from the internet and classify it through our network!"
   ]
  },
  {
   "cell_type": "code",
   "execution_count": 18,
   "metadata": {
    "collapsed": false,
    "scrolled": true
   },
   "outputs": [
    {
     "data": {
      "text/plain": [
       "(-0.5, 31.5, 31.5, -0.5)"
      ]
     },
     "execution_count": 18,
     "metadata": {},
     "output_type": "execute_result"
    },
    {
     "data": {
      "image/png": "[encoded data removed]",
      "text/plain": [
       "<matplotlib.figure.Figure at 0x7fa1a598e050>"
      ]
     },
     "metadata": {},
     "output_type": "display_data"
    }
   ],
   "source": [
    "# an image of a from I found on Wikipedia\n",
    "img_source = \"https://upload.wikimedia.org/wikipedia/commons/thumb/5/55/Atelopus_zeteki1.jpg/440px-Atelopus_zeteki1.jpg\"\n",
    "img_source = \"https://upload.wikimedia.org/wikipedia/commons/d/de/Nokota_Horses_cropped.jpg\"\n",
    "# download the image\n",
    "import urllib\n",
    "urllib.urlretrieve(img_source, filename=\"frog.jpg\")\n",
    "\n",
    "# crop and resize to 32x32\n",
    "from PIL import Image\n",
    "\n",
    "img = Image.open('frog.jpg')\n",
    "crop = img.crop((0,0,min(img.size),min(img.size)))\n",
    "crop.thumbnail((32, 32))\n",
    "plt.imshow(crop, interpolation=\"nearest\")  # crop or img\n",
    "plt.axis('off')\n",
    "\n"
   ]
  },
  {
   "cell_type": "markdown",
   "metadata": {},
   "source": [
    "Make a new backend with a batch size of 1 for inference"
   ]
  },
  {
   "cell_type": "code",
   "execution_count": 15,
   "metadata": {
    "collapsed": false
   },
   "outputs": [],
   "source": [
    "# create a minibatch with the new image \n",
    "import numpy as np\n",
    "x_new = np.zeros((128,3072), dtype=np.float32)\n",
    "x_new[0] = np.asarray(crop, dtype=np.float32).flatten().reshape(1,3072)/ 255\n",
    "\n",
    "inference_set = DataIterator(x_new, None, nclass=nclass, lshape=(3, 32, 32))"
   ]
  },
  {
   "cell_type": "code",
   "execution_count": 16,
   "metadata": {
    "collapsed": false
   },
   "outputs": [
    {
     "data": {
      "text/plain": [
       "'cat'"
      ]
     },
     "execution_count": 16,
     "metadata": {},
     "output_type": "execute_result"
    }
   ],
   "source": [
    "classes =[\"airplane\", \"automobile\", \"bird\", \"cat\", \"deer\", \"dog\", \"frog\", \"horse\", \"ship\", \"truck\"]\n",
    "out = model.get_outputs(inference_set)\n",
    "classes[out[0].argmax()]\n"
   ]
  },
  {
   "cell_type": "code",
   "execution_count": null,
   "metadata": {
    "collapsed": true
   },
   "outputs": [],
   "source": []
  }
 ],
 "metadata": {
  "kernelspec": {
   "display_name": "Python 2",
   "language": "python",
   "name": "python2"
  },
  "language_info": {
   "codemirror_mode": {
    "name": "ipython",
    "version": 2
   },
   "file_extension": ".py",
   "mimetype": "text/x-python",
   "name": "python",
   "nbconvert_exporter": "python",
   "pygments_lexer": "ipython2",
   "version": "2.7.6"
  }
 },
 "nbformat": 4,
 "nbformat_minor": 0
}
